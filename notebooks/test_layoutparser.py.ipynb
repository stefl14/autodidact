{
 "cells": [
  {
   "cell_type": "markdown",
   "source": [
    "## Parsing PDF example"
   ],
   "metadata": {
    "collapsed": false,
    "pycharm": {
     "name": "#%% md\n"
    }
   }
  },
  {
   "cell_type": "markdown",
   "source": [
    "This notebook shows the basic steps to parse a PDF image using layoutparser and google ocr/tesseract."
   ],
   "metadata": {
    "collapsed": false,
    "pycharm": {
     "name": "#%% md\n"
    }
   }
  },
  {
   "cell_type": "code",
   "execution_count": 34,
   "outputs": [],
   "source": [
    "import layoutparser as lp\n",
    "from pathlib import Path\n",
    "from layoutparser.ocr.tesseract_agent import TesseractAgent\n",
    "import numpy as np\n",
    "import os\n",
    "from copy import copy\n",
    "from layoutparser.elements.layout_elements import TextBlock\n",
    "from typing import Union"
   ],
   "metadata": {
    "collapsed": false,
    "pycharm": {
     "name": "#%%\n"
    }
   }
  },
  {
   "cell_type": "code",
   "execution_count": null,
   "outputs": [],
   "source": [
    "os.environ[\"GOOGLE_APPLICATION_CREDENTIALS\"] = \"../credentials/credentials.json\""
   ],
   "metadata": {
    "collapsed": false,
    "pycharm": {
     "name": "#%%\n"
    }
   }
  },
  {
   "cell_type": "code",
   "execution_count": null,
   "outputs": [],
   "source": [
    "# create downloads folder at root of repo and run scripts/fep_pypaperbot_example.sh to download these examples\n",
    "path = Path(\"../downloads\")"
   ],
   "metadata": {
    "collapsed": false,
    "pycharm": {
     "name": "#%%# path to downloads 1 level up from the current directory\n"
    }
   }
  },
  {
   "cell_type": "code",
   "execution_count": null,
   "outputs": [],
   "source": [
    "# Let's get a single image as an example.\n",
    "for file in path.iterdir():\n",
    "    file_name = file.name\n",
    "    pdf_tokens, pdf_images = lp.load_pdf(path / file_name, load_images=True)\n",
    "    break"
   ],
   "metadata": {
    "collapsed": false,
    "pycharm": {
     "name": "#%%\n"
    }
   }
  },
  {
   "cell_type": "code",
   "execution_count": null,
   "outputs": [],
   "source": [
    "# Start with the simplest fastest model. Model zoo has more complex models if we want to use them.\n",
    "model = lp.AutoLayoutModel(\"lp://efficientdet/PubLayNet/tf_efficientdet_d0\")"
   ],
   "metadata": {
    "collapsed": false,
    "pycharm": {
     "name": "#%%pdf_tokens, pdf_images = lp.load_pdf(path/, load_images=True)     # load pdf and extract tokens and imagesmodel = lp.AutoLayoutModel(\"lp://efficientdet/PubLayNet/tf_efficientdet_d0\")\n"
    }
   }
  },
  {
   "cell_type": "code",
   "execution_count": null,
   "outputs": [],
   "source": [
    "len(pdf_images)"
   ],
   "metadata": {
    "collapsed": false,
    "pycharm": {
     "name": "#%%\n"
    }
   }
  },
  {
   "cell_type": "code",
   "execution_count": null,
   "outputs": [],
   "source": [
    "image = pdf_images[11]"
   ],
   "metadata": {
    "collapsed": false,
    "pycharm": {
     "name": "#%%\n"
    }
   }
  },
  {
   "cell_type": "code",
   "execution_count": null,
   "outputs": [],
   "source": [
    "layout = model.detect(image)  # The page with reference\n",
    "lp.draw_box(image, layout)"
   ],
   "metadata": {
    "collapsed": false,
    "pycharm": {
     "name": "#%%\n"
    }
   }
  },
  {
   "cell_type": "markdown",
   "source": [
    "We can see that layoutparser has parsed things as expected. We may want to pad the examples before OCR as things are a little tight!"
   ],
   "metadata": {
    "collapsed": false,
    "pycharm": {
     "name": "#%% md\n"
    }
   }
  },
  {
   "cell_type": "code",
   "execution_count": null,
   "outputs": [],
   "source": [
    "text_blocks = lp.Layout([b for b in layout if b.type == \"Text\"])\n",
    "image = np.asarray(image)\n",
    "tesseract_ocr_agent = TesseractAgent(languages=\"eng\")\n",
    "google_ocr_agent = lp.GCVAgent(languages=\"eng\")"
   ],
   "metadata": {
    "collapsed": false,
    "pycharm": {
     "name": "#%%\n"
    }
   }
  },
  {
   "cell_type": "markdown",
   "source": [
    "## Google OCR vs Tesseract OCR"
   ],
   "metadata": {
    "collapsed": false,
    "pycharm": {
     "name": "#%% md\n"
    }
   }
  },
  {
   "cell_type": "code",
   "execution_count": null,
   "outputs": [],
   "source": [
    "def set_block_texts(\n",
    "    ocr_agent: Union[lp.TesseractAgent, lp.GCVAgent],\n",
    "    block: TextBlock,\n",
    "    left_pad: int = 15,\n",
    "    right_pad: int = 5,\n",
    "    top_pad: int = 5,\n",
    "    bottom_pad: int = 5,\n",
    ") -> None:\n",
    "    \"\"\"Set the text of a block inplace using the Google or Tesseract OCR agents.\n",
    "\n",
    "    :param ocr_agent: Agent to use for OCR. Google or Tesseract.\n",
    "    :param block: Block to set text of.\n",
    "    :return: None.\n",
    "    \"\"\"\n",
    "    # Crop image around the detected layout, padding to improve OCR accuracy\n",
    "    segment_image = block.pad(\n",
    "        left=left_pad, right=right_pad, top=top_pad, bottom=bottom_pad\n",
    "    ).crop_image(image)\n",
    "\n",
    "    # Perform OCR\n",
    "    text = ocr_agent.detect(segment_image, return_only_text=True)\n",
    "\n",
    "    # Save OCR result\n",
    "    block.set(text=text, inplace=True)\n",
    "\n",
    "\n",
    "google_text_blocks = copy(text_blocks)\n",
    "\n",
    "# Google OCR gives confidence scores for each character.\n",
    "for block in google_text_blocks:\n",
    "    set_block_texts(google_ocr_agent, block)\n",
    "\n",
    "for txt in google_text_blocks:\n",
    "    print(txt.text, end=\"\\n---\\n\")"
   ],
   "metadata": {
    "collapsed": false,
    "pycharm": {
     "name": "#%%\n"
    }
   }
  },
  {
   "cell_type": "code",
   "execution_count": null,
   "outputs": [],
   "source": [
    "tesseract_text_blocks = copy(google_text_blocks)\n",
    "for block in tesseract_text_blocks:\n",
    "    set_block_texts(tesseract_ocr_agent, block)\n",
    "for txt in tesseract_text_blocks:\n",
    "    print(txt.text, end=\"\\n---\\n\")"
   ],
   "metadata": {
    "collapsed": false,
    "pycharm": {
     "name": "#%%\n"
    }
   }
  },
  {
   "cell_type": "markdown",
   "source": [
    "We can see that the Google OCR is better than the Tesseract OCR. This isn't surprising as it's a paid service. But it's relatively cheap and we can use it for our purposes."
   ],
   "metadata": {
    "collapsed": false,
    "pycharm": {
     "name": "#%% md\n"
    }
   }
  },
  {
   "cell_type": "code",
   "execution_count": null,
   "outputs": [],
   "source": [],
   "metadata": {
    "collapsed": false,
    "pycharm": {
     "name": "#%%\n"
    }
   }
  }
 ],
 "metadata": {
  "kernelspec": {
   "display_name": "Python 3",
   "language": "python",
   "name": "python3"
  },
  "language_info": {
   "codemirror_mode": {
    "name": "ipython",
    "version": 2
   },
   "file_extension": ".py",
   "mimetype": "text/x-python",
   "name": "python",
   "nbconvert_exporter": "python",
   "pygments_lexer": "ipython2",
   "version": "2.7.6"
  }
 },
 "nbformat": 4,
 "nbformat_minor": 0
}